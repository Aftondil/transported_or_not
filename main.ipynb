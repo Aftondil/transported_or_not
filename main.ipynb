{
 "cells": [
  {
   "cell_type": "code",
   "execution_count": 1,
   "id": "initial_id",
   "metadata": {
    "ExecuteTime": {
     "end_time": "2024-02-26T14:24:10.302538400Z",
     "start_time": "2024-02-26T14:24:10.143418500Z"
    },
    "collapsed": true
   },
   "outputs": [],
   "source": [
    "import pandas as pd\n",
    "import matplotlib.pyplot as plt\n",
    "import seaborn as sns\n",
    "from sklearn.ensemble import RandomForestClassifier\n",
    "from sklearn.linear_model import LogisticRegression\n",
    "from sklearn.preprocessing import StandardScaler"
   ]
  },
  {
   "cell_type": "markdown",
   "id": "b6e7bef59d892577",
   "metadata": {
    "collapsed": false
   },
   "source": [
    "A. Load dataset. The quantity and quality of your data dictate how accurate your model will be. Select your dataset thoroughly and load it to the dataframe. You can use one or several sources\n",
    "\n"
   ]
  },
  {
   "cell_type": "code",
   "execution_count": 2,
   "id": "13480dc20ed835bb",
   "metadata": {
    "ExecuteTime": {
     "end_time": "2024-02-26T14:24:10.336159600Z",
     "start_time": "2024-02-26T14:24:10.303635700Z"
    },
    "collapsed": false
   },
   "outputs": [],
   "source": [
    "#I have chosen data called Spaceship Titanic from Kaggle\n",
    "train_df = pd.read_csv('./dataset/train.csv')\n",
    "# test_df = pd.read_csv('./dataset/test.csv')"
   ]
  },
  {
   "cell_type": "markdown",
   "id": "ed5cdbdf75ca481d",
   "metadata": {
    "collapsed": false
   },
   "source": [
    " B. Exploratory Data Analysis. Analyze the data description, identify main characteristic of output and data attributes, produce analytical summary report identify outlier values and skewness of distribution of data, provide the summary statistics for your dataset. "
   ]
  },
  {
   "cell_type": "code",
   "execution_count": 3,
   "id": "965d99a101744cf1",
   "metadata": {
    "ExecuteTime": {
     "end_time": "2024-02-26T14:24:10.361998400Z",
     "start_time": "2024-02-26T14:24:10.335148500Z"
    },
    "collapsed": false
   },
   "outputs": [
    {
     "data": {
      "text/html": [
       "<div>\n",
       "<style scoped>\n",
       "    .dataframe tbody tr th:only-of-type {\n",
       "        vertical-align: middle;\n",
       "    }\n",
       "\n",
       "    .dataframe tbody tr th {\n",
       "        vertical-align: top;\n",
       "    }\n",
       "\n",
       "    .dataframe thead th {\n",
       "        text-align: right;\n",
       "    }\n",
       "</style>\n",
       "<table border=\"1\" class=\"dataframe\">\n",
       "  <thead>\n",
       "    <tr style=\"text-align: right;\">\n",
       "      <th></th>\n",
       "      <th>PassengerId</th>\n",
       "      <th>HomePlanet</th>\n",
       "      <th>CryoSleep</th>\n",
       "      <th>Cabin</th>\n",
       "      <th>Destination</th>\n",
       "      <th>Age</th>\n",
       "      <th>VIP</th>\n",
       "      <th>RoomService</th>\n",
       "      <th>FoodCourt</th>\n",
       "      <th>ShoppingMall</th>\n",
       "      <th>Spa</th>\n",
       "      <th>VRDeck</th>\n",
       "      <th>Name</th>\n",
       "      <th>Transported</th>\n",
       "    </tr>\n",
       "  </thead>\n",
       "  <tbody>\n",
       "    <tr>\n",
       "      <th>0</th>\n",
       "      <td>0001_01</td>\n",
       "      <td>Europa</td>\n",
       "      <td>False</td>\n",
       "      <td>B/0/P</td>\n",
       "      <td>TRAPPIST-1e</td>\n",
       "      <td>39.0</td>\n",
       "      <td>False</td>\n",
       "      <td>0.0</td>\n",
       "      <td>0.0</td>\n",
       "      <td>0.0</td>\n",
       "      <td>0.0</td>\n",
       "      <td>0.0</td>\n",
       "      <td>Maham Ofracculy</td>\n",
       "      <td>False</td>\n",
       "    </tr>\n",
       "    <tr>\n",
       "      <th>1</th>\n",
       "      <td>0002_01</td>\n",
       "      <td>Earth</td>\n",
       "      <td>False</td>\n",
       "      <td>F/0/S</td>\n",
       "      <td>TRAPPIST-1e</td>\n",
       "      <td>24.0</td>\n",
       "      <td>False</td>\n",
       "      <td>109.0</td>\n",
       "      <td>9.0</td>\n",
       "      <td>25.0</td>\n",
       "      <td>549.0</td>\n",
       "      <td>44.0</td>\n",
       "      <td>Juanna Vines</td>\n",
       "      <td>True</td>\n",
       "    </tr>\n",
       "    <tr>\n",
       "      <th>2</th>\n",
       "      <td>0003_01</td>\n",
       "      <td>Europa</td>\n",
       "      <td>False</td>\n",
       "      <td>A/0/S</td>\n",
       "      <td>TRAPPIST-1e</td>\n",
       "      <td>58.0</td>\n",
       "      <td>True</td>\n",
       "      <td>43.0</td>\n",
       "      <td>3576.0</td>\n",
       "      <td>0.0</td>\n",
       "      <td>6715.0</td>\n",
       "      <td>49.0</td>\n",
       "      <td>Altark Susent</td>\n",
       "      <td>False</td>\n",
       "    </tr>\n",
       "    <tr>\n",
       "      <th>3</th>\n",
       "      <td>0003_02</td>\n",
       "      <td>Europa</td>\n",
       "      <td>False</td>\n",
       "      <td>A/0/S</td>\n",
       "      <td>TRAPPIST-1e</td>\n",
       "      <td>33.0</td>\n",
       "      <td>False</td>\n",
       "      <td>0.0</td>\n",
       "      <td>1283.0</td>\n",
       "      <td>371.0</td>\n",
       "      <td>3329.0</td>\n",
       "      <td>193.0</td>\n",
       "      <td>Solam Susent</td>\n",
       "      <td>False</td>\n",
       "    </tr>\n",
       "    <tr>\n",
       "      <th>4</th>\n",
       "      <td>0004_01</td>\n",
       "      <td>Earth</td>\n",
       "      <td>False</td>\n",
       "      <td>F/1/S</td>\n",
       "      <td>TRAPPIST-1e</td>\n",
       "      <td>16.0</td>\n",
       "      <td>False</td>\n",
       "      <td>303.0</td>\n",
       "      <td>70.0</td>\n",
       "      <td>151.0</td>\n",
       "      <td>565.0</td>\n",
       "      <td>2.0</td>\n",
       "      <td>Willy Santantines</td>\n",
       "      <td>True</td>\n",
       "    </tr>\n",
       "  </tbody>\n",
       "</table>\n",
       "</div>"
      ],
      "text/plain": [
       "  PassengerId HomePlanet CryoSleep  Cabin  Destination   Age    VIP  \\\n",
       "0     0001_01     Europa     False  B/0/P  TRAPPIST-1e  39.0  False   \n",
       "1     0002_01      Earth     False  F/0/S  TRAPPIST-1e  24.0  False   \n",
       "2     0003_01     Europa     False  A/0/S  TRAPPIST-1e  58.0   True   \n",
       "3     0003_02     Europa     False  A/0/S  TRAPPIST-1e  33.0  False   \n",
       "4     0004_01      Earth     False  F/1/S  TRAPPIST-1e  16.0  False   \n",
       "\n",
       "   RoomService  FoodCourt  ShoppingMall     Spa  VRDeck               Name  \\\n",
       "0          0.0        0.0           0.0     0.0     0.0    Maham Ofracculy   \n",
       "1        109.0        9.0          25.0   549.0    44.0       Juanna Vines   \n",
       "2         43.0     3576.0           0.0  6715.0    49.0      Altark Susent   \n",
       "3          0.0     1283.0         371.0  3329.0   193.0       Solam Susent   \n",
       "4        303.0       70.0         151.0   565.0     2.0  Willy Santantines   \n",
       "\n",
       "   Transported  \n",
       "0        False  \n",
       "1         True  \n",
       "2        False  \n",
       "3        False  \n",
       "4         True  "
      ]
     },
     "execution_count": 3,
     "metadata": {},
     "output_type": "execute_result"
    }
   ],
   "source": [
    "train_df.head()"
   ]
  },
  {
   "cell_type": "code",
   "execution_count": 4,
   "id": "70ea1fdc4f1ee061",
   "metadata": {
    "ExecuteTime": {
     "end_time": "2024-02-26T14:24:10.413045500Z",
     "start_time": "2024-02-26T14:24:10.351407400Z"
    },
    "collapsed": false
   },
   "outputs": [
    {
     "data": {
      "text/html": [
       "<div>\n",
       "<style scoped>\n",
       "    .dataframe tbody tr th:only-of-type {\n",
       "        vertical-align: middle;\n",
       "    }\n",
       "\n",
       "    .dataframe tbody tr th {\n",
       "        vertical-align: top;\n",
       "    }\n",
       "\n",
       "    .dataframe thead th {\n",
       "        text-align: right;\n",
       "    }\n",
       "</style>\n",
       "<table border=\"1\" class=\"dataframe\">\n",
       "  <thead>\n",
       "    <tr style=\"text-align: right;\">\n",
       "      <th></th>\n",
       "      <th>Age</th>\n",
       "      <th>RoomService</th>\n",
       "      <th>FoodCourt</th>\n",
       "      <th>ShoppingMall</th>\n",
       "      <th>Spa</th>\n",
       "      <th>VRDeck</th>\n",
       "    </tr>\n",
       "  </thead>\n",
       "  <tbody>\n",
       "    <tr>\n",
       "      <th>count</th>\n",
       "      <td>8514.000000</td>\n",
       "      <td>8512.000000</td>\n",
       "      <td>8510.000000</td>\n",
       "      <td>8485.000000</td>\n",
       "      <td>8510.000000</td>\n",
       "      <td>8505.000000</td>\n",
       "    </tr>\n",
       "    <tr>\n",
       "      <th>mean</th>\n",
       "      <td>28.827930</td>\n",
       "      <td>224.687617</td>\n",
       "      <td>458.077203</td>\n",
       "      <td>173.729169</td>\n",
       "      <td>311.138778</td>\n",
       "      <td>304.854791</td>\n",
       "    </tr>\n",
       "    <tr>\n",
       "      <th>std</th>\n",
       "      <td>14.489021</td>\n",
       "      <td>666.717663</td>\n",
       "      <td>1611.489240</td>\n",
       "      <td>604.696458</td>\n",
       "      <td>1136.705535</td>\n",
       "      <td>1145.717189</td>\n",
       "    </tr>\n",
       "    <tr>\n",
       "      <th>min</th>\n",
       "      <td>0.000000</td>\n",
       "      <td>0.000000</td>\n",
       "      <td>0.000000</td>\n",
       "      <td>0.000000</td>\n",
       "      <td>0.000000</td>\n",
       "      <td>0.000000</td>\n",
       "    </tr>\n",
       "    <tr>\n",
       "      <th>25%</th>\n",
       "      <td>19.000000</td>\n",
       "      <td>0.000000</td>\n",
       "      <td>0.000000</td>\n",
       "      <td>0.000000</td>\n",
       "      <td>0.000000</td>\n",
       "      <td>0.000000</td>\n",
       "    </tr>\n",
       "    <tr>\n",
       "      <th>50%</th>\n",
       "      <td>27.000000</td>\n",
       "      <td>0.000000</td>\n",
       "      <td>0.000000</td>\n",
       "      <td>0.000000</td>\n",
       "      <td>0.000000</td>\n",
       "      <td>0.000000</td>\n",
       "    </tr>\n",
       "    <tr>\n",
       "      <th>75%</th>\n",
       "      <td>38.000000</td>\n",
       "      <td>47.000000</td>\n",
       "      <td>76.000000</td>\n",
       "      <td>27.000000</td>\n",
       "      <td>59.000000</td>\n",
       "      <td>46.000000</td>\n",
       "    </tr>\n",
       "    <tr>\n",
       "      <th>max</th>\n",
       "      <td>79.000000</td>\n",
       "      <td>14327.000000</td>\n",
       "      <td>29813.000000</td>\n",
       "      <td>23492.000000</td>\n",
       "      <td>22408.000000</td>\n",
       "      <td>24133.000000</td>\n",
       "    </tr>\n",
       "  </tbody>\n",
       "</table>\n",
       "</div>"
      ],
      "text/plain": [
       "               Age   RoomService     FoodCourt  ShoppingMall           Spa  \\\n",
       "count  8514.000000   8512.000000   8510.000000   8485.000000   8510.000000   \n",
       "mean     28.827930    224.687617    458.077203    173.729169    311.138778   \n",
       "std      14.489021    666.717663   1611.489240    604.696458   1136.705535   \n",
       "min       0.000000      0.000000      0.000000      0.000000      0.000000   \n",
       "25%      19.000000      0.000000      0.000000      0.000000      0.000000   \n",
       "50%      27.000000      0.000000      0.000000      0.000000      0.000000   \n",
       "75%      38.000000     47.000000     76.000000     27.000000     59.000000   \n",
       "max      79.000000  14327.000000  29813.000000  23492.000000  22408.000000   \n",
       "\n",
       "             VRDeck  \n",
       "count   8505.000000  \n",
       "mean     304.854791  \n",
       "std     1145.717189  \n",
       "min        0.000000  \n",
       "25%        0.000000  \n",
       "50%        0.000000  \n",
       "75%       46.000000  \n",
       "max    24133.000000  "
      ]
     },
     "execution_count": 4,
     "metadata": {},
     "output_type": "execute_result"
    }
   ],
   "source": [
    "train_df.describe()\n"
   ]
  },
  {
   "cell_type": "code",
   "execution_count": 5,
   "id": "570f17c49ed4b7c5",
   "metadata": {
    "ExecuteTime": {
     "end_time": "2024-02-26T14:24:10.471870600Z",
     "start_time": "2024-02-26T14:24:10.382720Z"
    },
    "collapsed": false
   },
   "outputs": [
    {
     "name": "stdout",
     "output_type": "stream",
     "text": [
      "<class 'pandas.core.frame.DataFrame'>\n",
      "RangeIndex: 8693 entries, 0 to 8692\n",
      "Data columns (total 14 columns):\n",
      " #   Column        Non-Null Count  Dtype  \n",
      "---  ------        --------------  -----  \n",
      " 0   PassengerId   8693 non-null   object \n",
      " 1   HomePlanet    8492 non-null   object \n",
      " 2   CryoSleep     8476 non-null   object \n",
      " 3   Cabin         8494 non-null   object \n",
      " 4   Destination   8511 non-null   object \n",
      " 5   Age           8514 non-null   float64\n",
      " 6   VIP           8490 non-null   object \n",
      " 7   RoomService   8512 non-null   float64\n",
      " 8   FoodCourt     8510 non-null   float64\n",
      " 9   ShoppingMall  8485 non-null   float64\n",
      " 10  Spa           8510 non-null   float64\n",
      " 11  VRDeck        8505 non-null   float64\n",
      " 12  Name          8493 non-null   object \n",
      " 13  Transported   8693 non-null   bool   \n",
      "dtypes: bool(1), float64(6), object(7)\n",
      "memory usage: 891.5+ KB\n"
     ]
    }
   ],
   "source": [
    "train_df.info()"
   ]
  },
  {
   "cell_type": "code",
   "execution_count": 6,
   "id": "2a55e604a9c973b7",
   "metadata": {
    "ExecuteTime": {
     "end_time": "2024-02-26T14:24:10.692338100Z",
     "start_time": "2024-02-26T14:24:10.413045500Z"
    },
    "collapsed": false
   },
   "outputs": [
    {
     "data": {
      "text/plain": [
       "<AxesSubplot:>"
      ]
     },
     "execution_count": 6,
     "metadata": {},
     "output_type": "execute_result"
    },
    {
     "data": {
      "image/png": "[encoded data removed]",
      "text/plain": [
       "<Figure size 720x720 with 2 Axes>"
      ]
     },
     "metadata": {},
     "output_type": "display_data"
    }
   ],
   "source": [
    "coorrelation = train_df.corr()\n",
    "plt.figure(figsize=(10, 10))\n",
    "sns.heatmap(coorrelation, annot=True)"
   ]
  },
  {
   "cell_type": "code",
   "execution_count": 7,
   "id": "a66e3283ae343495",
   "metadata": {
    "ExecuteTime": {
     "end_time": "2024-02-26T14:24:11.330127700Z",
     "start_time": "2024-02-26T14:24:10.693340Z"
    },
    "collapsed": false
   },
   "outputs": [
    {
     "data": {
      "image/png": "[encoded data removed]",
      "text/plain": [
       "<Figure size 720x576 with 6 Axes>"
      ]
     },
     "metadata": {},
     "output_type": "display_data"
    }
   ],
   "source": [
    "train_df.hist(figsize=(10, 8))\n",
    "plt.show()"
   ]
  },
  {
   "cell_type": "markdown",
   "id": "8cb136020aca3500",
   "metadata": {
    "collapsed": false
   },
   "source": [
    "C. Data Preparation. You need to prepare your data for training. You may need to clean the data, remove duplicates, correct errors, deal with missing values, normalization and data type conversions. You may also engineer features during this step, depending on the needs of your analysis. The dataset should be split into the training and evaluation sets.  "
   ]
  },
  {
   "cell_type": "code",
   "execution_count": 8,
   "id": "16ec3f9c6f686424",
   "metadata": {
    "ExecuteTime": {
     "end_time": "2024-02-26T14:24:11.391776Z",
     "start_time": "2024-02-26T14:24:11.331632500Z"
    },
    "collapsed": false
   },
   "outputs": [
    {
     "name": "stdout",
     "output_type": "stream",
     "text": [
      "Number of duplicated date:  0\n",
      "PassengerId : 8693 , object\n",
      "HomePlanet : 3 , object\n",
      "CryoSleep : 2 , object\n",
      "Cabin : 6560 , object\n",
      "Destination : 3 , object\n",
      "Age : 80 , float64\n",
      "VIP : 2 , object\n",
      "RoomService : 1273 , float64\n",
      "FoodCourt : 1507 , float64\n",
      "ShoppingMall : 1115 , float64\n",
      "Spa : 1327 , float64\n",
      "VRDeck : 1306 , float64\n",
      "Name : 8473 , object\n",
      "Transported : 2 , bool\n"
     ]
    }
   ],
   "source": [
    "print('Number of duplicated date: ', train_df.duplicated().sum())\n",
    "columns = train_df.columns\n",
    "for column in columns:\n",
    "    print(column, ':', train_df[column].nunique(), ',', train_df[column].dtype)\n",
    "#dropping no need columns like PassengerId, Cabin, Name\n",
    "df = train_df.drop(columns=['PassengerId', 'Cabin', 'Name'])"
   ]
  },
  {
   "cell_type": "markdown",
   "id": "f87869480bbf2704",
   "metadata": {
    "collapsed": false
   },
   "source": [
    "Feature engineering"
   ]
  },
  {
   "cell_type": "code",
   "execution_count": 9,
   "id": "4e6483fe63cb08d8",
   "metadata": {
    "ExecuteTime": {
     "end_time": "2024-02-26T14:24:11.392784300Z",
     "start_time": "2024-02-26T14:24:11.361260200Z"
    },
    "collapsed": false
   },
   "outputs": [
    {
     "name": "stdout",
     "output_type": "stream",
     "text": [
      "missing proportion\n",
      "HomePlanet      0.023122\n",
      "CryoSleep       0.024963\n",
      "Destination     0.020936\n",
      "Age             0.020591\n",
      "VIP             0.023352\n",
      "RoomService     0.020821\n",
      "FoodCourt       0.021051\n",
      "ShoppingMall    0.023927\n",
      "Spa             0.021051\n",
      "VRDeck          0.021627\n",
      "Transported     0.000000\n",
      "dtype: float64\n"
     ]
    }
   ],
   "source": [
    "print('missing proportion')\n",
    "print(df.isna().sum() / len(df))\n",
    "df = df.dropna()"
   ]
  },
  {
   "cell_type": "code",
   "execution_count": 10,
   "id": "b44b7afb96b3101c",
   "metadata": {
    "ExecuteTime": {
     "end_time": "2024-02-26T14:24:11.420482600Z",
     "start_time": "2024-02-26T14:24:11.376918600Z"
    },
    "collapsed": false
   },
   "outputs": [],
   "source": [
    "#transforming object columns into int\n",
    "df.HomePlanet = df.HomePlanet.replace('Europa', 0).replace('Earth', 1).replace('Mars', 2)\n",
    "df.CryoSleep = df.CryoSleep.replace(False, 0).replace(True, 1)\n",
    "df.Destination = df.Destination.replace('TRAPPIST-1e', 0).replace('PSO J318.5-22', 1).replace('55 Cancri e', 2)\n",
    "df.VIP = df.VIP.replace(False, 0).replace(True, 1)\n",
    "df.Transported = df.Transported.replace(False, 0).replace(True, 1)\n"
   ]
  },
  {
   "cell_type": "code",
   "execution_count": 11,
   "id": "1622698afe75360c",
   "metadata": {
    "ExecuteTime": {
     "end_time": "2024-02-26T14:24:11.430310400Z",
     "start_time": "2024-02-26T14:24:11.392784300Z"
    },
    "collapsed": false
   },
   "outputs": [
    {
     "data": {
      "text/html": [
       "<div>\n",
       "<style scoped>\n",
       "    .dataframe tbody tr th:only-of-type {\n",
       "        vertical-align: middle;\n",
       "    }\n",
       "\n",
       "    .dataframe tbody tr th {\n",
       "        vertical-align: top;\n",
       "    }\n",
       "\n",
       "    .dataframe thead th {\n",
       "        text-align: right;\n",
       "    }\n",
       "</style>\n",
       "<table border=\"1\" class=\"dataframe\">\n",
       "  <thead>\n",
       "    <tr style=\"text-align: right;\">\n",
       "      <th></th>\n",
       "      <th>HomePlanet</th>\n",
       "      <th>CryoSleep</th>\n",
       "      <th>Destination</th>\n",
       "      <th>Age</th>\n",
       "      <th>VIP</th>\n",
       "      <th>RoomService</th>\n",
       "      <th>FoodCourt</th>\n",
       "      <th>ShoppingMall</th>\n",
       "      <th>Spa</th>\n",
       "      <th>VRDeck</th>\n",
       "      <th>Transported</th>\n",
       "    </tr>\n",
       "  </thead>\n",
       "  <tbody>\n",
       "    <tr>\n",
       "      <th>count</th>\n",
       "      <td>6923.000000</td>\n",
       "      <td>6923.000000</td>\n",
       "      <td>6923.000000</td>\n",
       "      <td>6923.000000</td>\n",
       "      <td>6923.000000</td>\n",
       "      <td>6923.000000</td>\n",
       "      <td>6923.000000</td>\n",
       "      <td>6923.000000</td>\n",
       "      <td>6923.000000</td>\n",
       "      <td>6923.000000</td>\n",
       "      <td>6923.000000</td>\n",
       "    </tr>\n",
       "    <tr>\n",
       "      <th>mean</th>\n",
       "      <td>0.951033</td>\n",
       "      <td>0.353748</td>\n",
       "      <td>0.522750</td>\n",
       "      <td>28.891665</td>\n",
       "      <td>0.024411</td>\n",
       "      <td>226.079590</td>\n",
       "      <td>480.432760</td>\n",
       "      <td>179.328037</td>\n",
       "      <td>318.185035</td>\n",
       "      <td>303.768309</td>\n",
       "      <td>0.503106</td>\n",
       "    </tr>\n",
       "    <tr>\n",
       "      <th>std</th>\n",
       "      <td>0.676770</td>\n",
       "      <td>0.478167</td>\n",
       "      <td>0.823237</td>\n",
       "      <td>14.514540</td>\n",
       "      <td>0.154334</td>\n",
       "      <td>673.908258</td>\n",
       "      <td>1672.766209</td>\n",
       "      <td>633.614987</td>\n",
       "      <td>1159.247480</td>\n",
       "      <td>1125.448364</td>\n",
       "      <td>0.500026</td>\n",
       "    </tr>\n",
       "    <tr>\n",
       "      <th>min</th>\n",
       "      <td>0.000000</td>\n",
       "      <td>0.000000</td>\n",
       "      <td>0.000000</td>\n",
       "      <td>0.000000</td>\n",
       "      <td>0.000000</td>\n",
       "      <td>0.000000</td>\n",
       "      <td>0.000000</td>\n",
       "      <td>0.000000</td>\n",
       "      <td>0.000000</td>\n",
       "      <td>0.000000</td>\n",
       "      <td>0.000000</td>\n",
       "    </tr>\n",
       "    <tr>\n",
       "      <th>25%</th>\n",
       "      <td>0.000000</td>\n",
       "      <td>0.000000</td>\n",
       "      <td>0.000000</td>\n",
       "      <td>19.000000</td>\n",
       "      <td>0.000000</td>\n",
       "      <td>0.000000</td>\n",
       "      <td>0.000000</td>\n",
       "      <td>0.000000</td>\n",
       "      <td>0.000000</td>\n",
       "      <td>0.000000</td>\n",
       "      <td>0.000000</td>\n",
       "    </tr>\n",
       "    <tr>\n",
       "      <th>50%</th>\n",
       "      <td>1.000000</td>\n",
       "      <td>0.000000</td>\n",
       "      <td>0.000000</td>\n",
       "      <td>27.000000</td>\n",
       "      <td>0.000000</td>\n",
       "      <td>0.000000</td>\n",
       "      <td>0.000000</td>\n",
       "      <td>0.000000</td>\n",
       "      <td>0.000000</td>\n",
       "      <td>0.000000</td>\n",
       "      <td>1.000000</td>\n",
       "    </tr>\n",
       "    <tr>\n",
       "      <th>75%</th>\n",
       "      <td>1.000000</td>\n",
       "      <td>1.000000</td>\n",
       "      <td>1.000000</td>\n",
       "      <td>38.000000</td>\n",
       "      <td>0.000000</td>\n",
       "      <td>49.000000</td>\n",
       "      <td>81.500000</td>\n",
       "      <td>29.000000</td>\n",
       "      <td>65.500000</td>\n",
       "      <td>51.000000</td>\n",
       "      <td>1.000000</td>\n",
       "    </tr>\n",
       "    <tr>\n",
       "      <th>max</th>\n",
       "      <td>2.000000</td>\n",
       "      <td>1.000000</td>\n",
       "      <td>2.000000</td>\n",
       "      <td>79.000000</td>\n",
       "      <td>1.000000</td>\n",
       "      <td>14327.000000</td>\n",
       "      <td>29813.000000</td>\n",
       "      <td>23492.000000</td>\n",
       "      <td>22408.000000</td>\n",
       "      <td>20336.000000</td>\n",
       "      <td>1.000000</td>\n",
       "    </tr>\n",
       "  </tbody>\n",
       "</table>\n",
       "</div>"
      ],
      "text/plain": [
       "        HomePlanet    CryoSleep  Destination          Age          VIP  \\\n",
       "count  6923.000000  6923.000000  6923.000000  6923.000000  6923.000000   \n",
       "mean      0.951033     0.353748     0.522750    28.891665     0.024411   \n",
       "std       0.676770     0.478167     0.823237    14.514540     0.154334   \n",
       "min       0.000000     0.000000     0.000000     0.000000     0.000000   \n",
       "25%       0.000000     0.000000     0.000000    19.000000     0.000000   \n",
       "50%       1.000000     0.000000     0.000000    27.000000     0.000000   \n",
       "75%       1.000000     1.000000     1.000000    38.000000     0.000000   \n",
       "max       2.000000     1.000000     2.000000    79.000000     1.000000   \n",
       "\n",
       "        RoomService     FoodCourt  ShoppingMall           Spa        VRDeck  \\\n",
       "count   6923.000000   6923.000000   6923.000000   6923.000000   6923.000000   \n",
       "mean     226.079590    480.432760    179.328037    318.185035    303.768309   \n",
       "std      673.908258   1672.766209    633.614987   1159.247480   1125.448364   \n",
       "min        0.000000      0.000000      0.000000      0.000000      0.000000   \n",
       "25%        0.000000      0.000000      0.000000      0.000000      0.000000   \n",
       "50%        0.000000      0.000000      0.000000      0.000000      0.000000   \n",
       "75%       49.000000     81.500000     29.000000     65.500000     51.000000   \n",
       "max    14327.000000  29813.000000  23492.000000  22408.000000  20336.000000   \n",
       "\n",
       "       Transported  \n",
       "count  6923.000000  \n",
       "mean      0.503106  \n",
       "std       0.500026  \n",
       "min       0.000000  \n",
       "25%       0.000000  \n",
       "50%       1.000000  \n",
       "75%       1.000000  \n",
       "max       1.000000  "
      ]
     },
     "execution_count": 11,
     "metadata": {},
     "output_type": "execute_result"
    }
   ],
   "source": [
    "# print(df.info())\n",
    "df.describe(include='all')"
   ]
  },
  {
   "cell_type": "code",
   "execution_count": 12,
   "id": "8a3ecac545a647dc",
   "metadata": {
    "ExecuteTime": {
     "end_time": "2024-02-26T14:24:11.439071500Z",
     "start_time": "2024-02-26T14:24:11.423573100Z"
    },
    "collapsed": false
   },
   "outputs": [],
   "source": [
    "y = df.Transported\n",
    "X = df.drop(columns=['Transported'])\n",
    "\n",
    "from sklearn.model_selection import train_test_split\n",
    "X_train, X_test, y_train, y_test = train_test_split(X, y, test_size=0.2, random_state=42)"
   ]
  },
  {
   "cell_type": "code",
   "execution_count": 13,
   "id": "a9bede4c61fceef7",
   "metadata": {
    "ExecuteTime": {
     "end_time": "2024-02-26T14:24:11.466529500Z",
     "start_time": "2024-02-26T14:24:11.440107200Z"
    },
    "collapsed": false
   },
   "outputs": [
    {
     "data": {
      "text/plain": [
       "LogisticRegression(C=1, penalty='l1', solver='liblinear')"
      ]
     },
     "execution_count": 13,
     "metadata": {},
     "output_type": "execute_result"
    }
   ],
   "source": [
    "#Model 1\n",
    "scaler = StandardScaler()\n",
    "X_train_scaled = scaler.fit_transform(X_train)\n",
    "X_test_scaled = scaler.transform(X_test)\n",
    "model1 = LogisticRegression(C=1, penalty='l1', solver='liblinear')\n",
    "\n",
    "model1.fit(X_train_scaled, y_train)\n"
   ]
  },
  {
   "cell_type": "code",
   "execution_count": 14,
   "id": "155d5d8c384af27a",
   "metadata": {
    "ExecuteTime": {
     "end_time": "2024-02-26T14:24:11.486015Z",
     "start_time": "2024-02-26T14:24:11.456159200Z"
    },
    "collapsed": false
   },
   "outputs": [
    {
     "data": {
      "text/plain": [
       "DecisionTreeClassifier(criterion='entropy', max_depth=8, min_samples_leaf=3)"
      ]
     },
     "execution_count": 14,
     "metadata": {},
     "output_type": "execute_result"
    }
   ],
   "source": [
    "#model 2\n",
    "from sklearn.tree import DecisionTreeClassifier\n",
    "model2 = DecisionTreeClassifier(criterion='entropy', max_depth=8, min_samples_leaf=3)\n",
    "model2.fit(X_train, y_train)\n"
   ]
  },
  {
   "cell_type": "code",
   "execution_count": 15,
   "id": "e27d37efb706b1df",
   "metadata": {
    "ExecuteTime": {
     "end_time": "2024-02-26T14:24:11.597965100Z",
     "start_time": "2024-02-26T14:24:11.471244800Z"
    },
    "collapsed": false
   },
   "outputs": [
    {
     "data": {
      "text/plain": [
       "RandomForestClassifier(criterion='entropy', max_depth=9, n_estimators=30)"
      ]
     },
     "execution_count": 15,
     "metadata": {},
     "output_type": "execute_result"
    }
   ],
   "source": [
    "#model 3\n",
    "model3 = RandomForestClassifier(n_estimators=30, max_depth=9, criterion='entropy')\n",
    "model3.fit(X_train, y_train)\n"
   ]
  },
  {
   "cell_type": "code",
   "execution_count": 16,
   "id": "8129b2ac17ee4c52",
   "metadata": {
    "ExecuteTime": {
     "end_time": "2024-02-26T14:24:11.980701200Z",
     "start_time": "2024-02-26T14:24:11.603117300Z"
    },
    "collapsed": false
   },
   "outputs": [
    {
     "name": "stdout",
     "output_type": "stream",
     "text": [
      "Test score for model 1: 0.8007220216606499\n",
      "Precision for model 1: 0.7916666666666666\n",
      "Recall for model 1: 0.8189655172413793\n",
      "F1 for model 1: 0.8050847457627119\n"
     ]
    },
    {
     "data": {
      "text/plain": [
       "<Figure size 720x504 with 0 Axes>"
      ]
     },
     "metadata": {},
     "output_type": "display_data"
    },
    {
     "data": {
      "image/png": "[encoded data removed]",
      "text/plain": [
       "<Figure size 432x288 with 2 Axes>"
      ]
     },
     "metadata": {},
     "output_type": "display_data"
    },
    {
     "name": "stdout",
     "output_type": "stream",
     "text": [
      "Test score for model 2: 0.7870036101083032\n",
      "Precision for model 2: 0.7522012578616353\n",
      "Recall for model 2: 0.8591954022988506\n",
      "F1 for model 2: 0.8021462105969148\n"
     ]
    },
    {
     "data": {
      "text/plain": [
       "<Figure size 720x504 with 0 Axes>"
      ]
     },
     "metadata": {},
     "output_type": "display_data"
    },
    {
     "data": {
      "image/png": "[encoded data removed]",
      "text/plain": [
       "<Figure size 432x288 with 2 Axes>"
      ]
     },
     "metadata": {},
     "output_type": "display_data"
    },
    {
     "name": "stdout",
     "output_type": "stream",
     "text": [
      "Test score for model 3: 0.8064981949458484\n",
      "Precision for model 3: 0.7868632707774799\n",
      "Recall for model 3: 0.8433908045977011\n",
      "F1 for model 3: 0.8141470180305131\n"
     ]
    },
    {
     "data": {
      "text/plain": [
       "<Figure size 720x504 with 0 Axes>"
      ]
     },
     "metadata": {},
     "output_type": "display_data"
    },
    {
     "data": {
      "image/png": "[encoded data removed]",
      "text/plain": [
       "<Figure size 432x288 with 2 Axes>"
      ]
     },
     "metadata": {},
     "output_type": "display_data"
    }
   ],
   "source": [
    "from sklearn.metrics import ConfusionMatrixDisplay\n",
    "import matplotlib.pyplot as plt\n",
    "from sklearn.metrics import precision_score, recall_score, f1_score\n",
    "\n",
    "\n",
    "\n",
    "plt.figure(figsize=(10, 7))\n",
    "ConfusionMatrixDisplay.from_estimator(model1, X_test_scaled, y_test, cmap=plt.cm.Blues )  \n",
    "plt.title('Confusion Matrix for model 1')\n",
    "precision = precision_score(y_test, model1.predict(X_test_scaled))\n",
    "recall = recall_score(y_test, model1.predict(X_test_scaled))\n",
    "f1 = f1_score(y_test, model1.predict(X_test_scaled))\n",
    "score = model1.score(X_test_scaled, y_test)\n",
    "print('Test score for model 1:', score)\n",
    "print('Precision for model 1:', precision)\n",
    "print('Recall for model 1:', recall)\n",
    "print('F1 for model 1:', f1)\n",
    "plt.show()\n",
    "\n",
    "\n",
    "plt.figure(figsize=(10, 7))\n",
    "ConfusionMatrixDisplay.from_estimator(model2, X_test, y_test, cmap=plt.cm.Blues)  \n",
    "plt.title('Confusion Matrix for model 2')\n",
    "precision2 = precision_score(y_test, model2.predict(X_test))\n",
    "recall2 = recall_score(y_test, model2.predict(X_test))\n",
    "f2 = f1_score(y_test, model2.predict(X_test))\n",
    "score = model2.score(X_test, y_test)\n",
    "print('Test score for model 2:', score)\n",
    "print('Precision for model 2:', precision2)\n",
    "print('Recall for model 2:', recall2)\n",
    "print('F1 for model 2:', f2)\n",
    "plt.show()\n",
    "\n",
    "\n",
    "plt.figure(figsize=(10, 7))\n",
    "ConfusionMatrixDisplay.from_estimator(model3, X_test, y_test, cmap=plt.cm.Blues)  \n",
    "plt.title('Confusion Matrix for model 3')\n",
    "precision3 = precision_score(y_test, model3.predict(X_test))\n",
    "recall3 = recall_score(y_test, model3.predict(X_test))\n",
    "f3 = f1_score(y_test, model3.predict(X_test))\n",
    "score = model3.score(X_test, y_test)\n",
    "print('Test score for model 3:', score)\n",
    "print('Precision for model 3:', precision3)\n",
    "print('Recall for model 3:', recall3)\n",
    "print('F1 for model 3:', f3)\n",
    "\n",
    "\n",
    "plt.show()\n"
   ]
  },
  {
   "cell_type": "markdown",
   "id": "f5f021676888a161",
   "metadata": {
    "collapsed": false
   },
   "source": [
    "1. Logistic Regression Model.\n",
    "Model Development:\n",
    "Data Preprocessing: The data is scaled using StandardScaler to ensure that all features contribute equally to the model's performance. This is crucial for logistic regression, especially when regularization is applied.\n",
    "Model Initialization: LogisticRegression with C=1, penalty='l1', and solver='liblinear' is chosen. This setup indicates L1 regularization (which can lead to sparse solutions) and the liblinear solver, suitable for small datasets and binary classification problems.\n",
    "Model Training: The scaled training data (X_train_scaled) and labels (y_train) are used to fit the model.\n",
    "Model Validation:\n",
    "Test Data Evaluation: The model's performance is evaluated using the scaled test data (X_test_scaled), and the accuracy score is reported. This step assesses how well the model generalizes to unseen data.\n",
    "2. Decision Tree Classifier .\n",
    "Model Development:\n",
    "Model Initialization: DecisionTreeClassifier with criterion='entropy', max_depth=8, and min_samples_leaf=3. This configuration specifies the use of entropy for information gain, a maximum depth to prevent overfitting, and a minimum sample count for leaf nodes to ensure generalization.\n",
    "Model Training: The model is trained using raw training data (X_train), as decision trees do not require feature scaling.\n",
    "Model Validation:\n",
    "Test Data Evaluation: The performance is evaluated on raw test data (X_test), with the accuracy score indicating the model's generalization ability.\n",
    "3. Random Forest Classifier Training and Validation\n",
    "Model Development:\n",
    "Model Initialization: RandomForestClassifier with n_estimators=30, max_depth=9, and criterion='entropy'. This setup uses multiple decision trees to improve model robustness and reduce overfitting, with entropy for information gain and specified depth for complexity control.\n",
    "Model Training: The model is trained with the raw training dataset.\n",
    "Model Validation:\n",
    "Test Data Evaluation: The model's accuracy is assessed on the test dataset, providing insights into its generalization capabilities."
   ]
  },
  {
   "cell_type": "markdown",
   "id": "de483d5038803113",
   "metadata": {
    "collapsed": false
   },
   "source": [
    "For the model deployment we should first choose best scoring model based on scores provided(accuracy , f1 score, recall, ..)\n",
    "For the future improvements , first we need to alter the data as said before 'trash in , trash out', means if fitted data is less understandable for model , the output also would be less accurate. Second thing to improve in project is tuning hyperparameters, as it is probably make better to learn data for a model \n",
    " "
   ]
  },
  {
   "cell_type": "code",
   "execution_count": 16,
   "id": "5f0f48e0cd2a9515",
   "metadata": {
    "ExecuteTime": {
     "end_time": "2024-02-26T14:24:12.013695200Z",
     "start_time": "2024-02-26T14:24:11.980701200Z"
    },
    "collapsed": false
   },
   "outputs": [],
   "source": []
  }
 ],
 "metadata": {
  "kernelspec": {
   "display_name": "Python 3",
   "language": "python",
   "name": "python3"
  },
  "language_info": {
   "codemirror_mode": {
    "name": "ipython",
    "version": 2
   },
   "file_extension": ".py",
   "mimetype": "text/x-python",
   "name": "python",
   "nbconvert_exporter": "python",
   "pygments_lexer": "ipython2",
   "version": "2.7.6"
  }
 },
 "nbformat": 4,
 "nbformat_minor": 5
}
